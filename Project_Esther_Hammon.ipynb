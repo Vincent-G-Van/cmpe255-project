{
 "cells": [
  {
   "cell_type": "markdown",
   "metadata": {},
   "source": [
    "Project: Authorship Identification\n",
    "======"
   ]
  },
  {
   "cell_type": "code",
   "execution_count": 1,
   "metadata": {},
   "outputs": [],
   "source": [
    "# Step 1: Import necessary libraries\n",
    "import os\n",
    "import numpy as np\n",
    "import pandas as pd\n",
    "import copy\n",
    "import matplotlib.pyplot as plt\n",
    "\n",
    "from sklearn.feature_extraction.text import CountVectorizer\n",
    "from sklearn.preprocessing import StandardScaler\n",
    "from sklearn.pipeline import make_pipeline\n",
    "from sklearn.preprocessing import Normalizer\n",
    "from sklearn.decomposition import TruncatedSVD,PCA\n",
    "from sklearn.feature_extraction.text import TfidfVectorizer\n",
    "from sklearn.model_selection import train_test_split\n",
    "from sklearn.linear_model import LogisticRegression\n",
    "from sklearn.ensemble import RandomForestClassifier\n",
    "from sklearn.metrics import classification_report, f1_score\n",
    "from sklearn.pipeline import Pipeline\n",
    "from sklearn.svm import SVC\n",
    "\n",
    "from sklearn.model_selection import GridSearchCV\n",
    "\n",
    "\n",
    "from scipy.sparse import csr_matrix as sp_csr_matrix"
   ]
  },
  {
   "cell_type": "code",
   "execution_count": 2,
   "metadata": {},
   "outputs": [],
   "source": [
    "# Load in C50train located ../C50train/\n",
    "train_dir = 'C:/Users/esthe/Downloads/CMPE 255 Project/cmpe255-project/C50train/'\n",
    "# get name of directories, authors (these will be the labels)\n",
    "train_sub = [name for name in os.listdir(train_dir) if os.path.isdir(os.path.join(train_dir, name))]\n",
    "label_lst = np.copy(train_sub)\n",
    "\n",
    "# setup the initial empty variables\n",
    "train = []\n",
    "train_v = []\n",
    "label = []\n",
    "\n",
    "# load the input data from C50train directory and process it\n",
    "auth_idx = 0\n",
    "\n",
    "# go within the author directory to get list of the file names, this will be the training data\n",
    "for i in train_sub:\n",
    "    sub2_dir  = 'C:/Users/esthe/Downloads/CMPE 255 Project/cmpe255-project/C50train/' + i \n",
    "#     '../C50train/'\n",
    "    train_sub2 = [name for name in os.listdir(sub2_dir) if os.path.isfile(os.path.join(sub2_dir, name))]\n",
    "    # in each author file, save the author as the label and the text as its training data\n",
    "    for j in train_sub2:\n",
    "        sub3  = 'C:/Users/esthe/Downloads/CMPE 255 Project/cmpe255-project/C50train/' + i + '/' + j\n",
    "\n",
    "        with open(sub3, 'r') as file:\n",
    "            data = file.read()\n",
    "            data_no_nw = data.replace('\\n', '').replace('\\r', '')\n",
    "            train.append(data_no_nw)\n",
    "        # append author index as label\n",
    "        label.append(auth_idx)\n",
    "    # increment author index\n",
    "    auth_idx = auth_idx + 1"
   ]
  },
  {
   "cell_type": "markdown",
   "metadata": {},
   "source": [
    "## Step 2: Vectorize/Transform Data"
   ]
  },
  {
   "cell_type": "code",
   "execution_count": 3,
   "metadata": {},
   "outputs": [
    {
     "name": "stdout",
     "output_type": "stream",
     "text": [
      "TF-IDF Feature Shape: (2500, 10000)\n"
     ]
    }
   ],
   "source": [
    "# Step 2: Convert text to TF-IDF features\n",
    "tfidf_vectorizer = TfidfVectorizer(\n",
    "    max_features=10000,  # Limit to the top 10,000 features for performance\n",
    "    stop_words='english',  # Remove common English stopwords\n",
    "    lowercase=True,  # Convert text to lowercase\n",
    "    )\n",
    "\n",
    "\n",
    "# Transform text data into TF-IDF feature vectors\n",
    "X = tfidf_vectorizer.fit_transform(train)\n",
    "y = np.array(label)\n",
    "\n",
    "print(f\"TF-IDF Feature Shape: {X.shape}\")"
   ]
  },
  {
   "cell_type": "code",
   "execution_count": null,
   "metadata": {},
   "outputs": [],
   "source": [
    "# def normalize_csr_matrix(csr_matrix):\n",
    "#     norm_data = []\n",
    "#     norm_rows = []\n",
    "#     norm_cols = []\n",
    "    \n",
    "#     for i in range(csr_matrix.shape[0]):\n",
    "#         row = csr_matrix[i].toarray().flatten()  # Convert row to a dense array and flatten it\n",
    "#         norm = np.linalg.norm(row)  # Compute the L2 norm (Euclidean norm) of the row\n",
    "        \n",
    "#         # If the norm is not zero, normalize the row\n",
    "#         if norm > 0:\n",
    "#             norm_row = row / norm\n",
    "#             # Collect non-zero entries\n",
    "#             for j in range(len(norm_row)):\n",
    "#                 if norm_row[j] != 0:\n",
    "#                     norm_data.append(norm_row[j])\n",
    "#                     norm_rows.append(i)  # Row index\n",
    "#                     norm_cols.append(j)  # Column index\n",
    "\n",
    "#     # Create a new sparse matrix from the normalized data\n",
    "#     normalized_csr_matrix = sp_csr_matrix((norm_data, (norm_rows, norm_cols)), \n",
    "#                                            shape=csr_matrix.shape)\n",
    "#     return normalized_csr_matrix\n",
    "\n",
    "# X = normalize_csr_matrix(X)\n"
   ]
  },
  {
   "cell_type": "markdown",
   "metadata": {},
   "source": [
    "## Step 3: Train-Test Split"
   ]
  },
  {
   "cell_type": "code",
   "execution_count": 4,
   "metadata": {},
   "outputs": [
    {
     "name": "stdout",
     "output_type": "stream",
     "text": [
      "Train Set Shape: (2000, 10000), Test Set Shape: (500, 10000)\n"
     ]
    }
   ],
   "source": [
    "# Step 3: Train-Test Split\n",
    "X_train, X_test, y_train, y_test = train_test_split(X, y, test_size=0.2, random_state=42)\n",
    "\n",
    "print(f\"Train Set Shape: {X_train.shape}, Test Set Shape: {X_test.shape}\")"
   ]
  },
  {
   "cell_type": "markdown",
   "metadata": {},
   "source": [
    "## Step 4: Dimensionality Reduction + Hyperparameter Tuning"
   ]
  },
  {
   "cell_type": "code",
   "execution_count": null,
   "metadata": {},
   "outputs": [],
   "source": [
    "# Step 4: Dimensionality Reduction with Truncated SVD\n",
    "svd = TruncatedSVD(n_components=1750, random_state=42) \n",
    "\n",
    "# Step 4: Dimensionality Reduction with PCA\n",
    "# pca = PCA(n_components=1750, random_state=42)  \n",
    "\n",
    "# Normalize the data\n",
    "normalizer = Normalizer(norm='l2',copy=False)\n",
    "\n",
    "# # Scale the data \n",
    "# scaler = StandardScaler()"
   ]
  },
  {
   "cell_type": "code",
   "execution_count": null,
   "metadata": {},
   "outputs": [],
   "source": [
    "# Initialize Logistic Regression model\n",
    "logreg = LogisticRegression(random_state=42)\n",
    "\n",
    "# Define the parameter grid\n",
    "param_grid = {\n",
    "    'C': [0.01, 0.1, 1, 10, 100],\n",
    "    'class_weight': [None,'balanced'],\n",
    "    'max_iter': [500, 1000],\n",
    "}\n",
    "\n",
    "# Initialize GridSearchCV\n",
    "grid_search = GridSearchCV(\n",
    "    logreg,\n",
    "    param_grid,\n",
    "    scoring='f1_weighted',  # Use F1-weighted as scoring metric\n",
    "    cv=5,  # 5-fold cross-validation\n",
    "    verbose=1  # Display progress\n",
    ")\n",
    "\n",
    "grid_search.fit(X_train, y_train)\n",
    "\n",
    "# Evaluate the best model\n",
    "best_model = grid_search.best_estimator_\n",
    "y_pred = best_model.predict(X_test)\n",
    "\n",
    "print(\"Classification Report:\")\n",
    "print(classification_report(y_test, y_pred))\n"
   ]
  },
  {
   "cell_type": "code",
   "execution_count": null,
   "metadata": {},
   "outputs": [],
   "source": [
    "grid_search"
   ]
  },
  {
   "cell_type": "code",
   "execution_count": null,
   "metadata": {},
   "outputs": [],
   "source": [
    "best_model"
   ]
  },
  {
   "cell_type": "markdown",
   "metadata": {},
   "source": [
    "## Step 5: Logistic Regression"
   ]
  },
  {
   "cell_type": "code",
   "execution_count": null,
   "metadata": {},
   "outputs": [],
   "source": [
    "# Step 5: Create a Pipeline with Dimensionality Reduction and Classifier\n",
    "pipeline = Pipeline([\n",
    "    ('svd', svd),\n",
    "#     ('pca', pca),\n",
    "#     ('normalize', normalizer),\n",
    "    ('classifier', LogisticRegression(C=100, class_weight='balanced', max_iter=1000,random_state=42)),\n",
    "#     ('classifier', MultinomialNB()),\n",
    "#     ('classifier', RandomForestClassifier(n_estimators=200, random_state=42)),  # Random Forest with class balancing\n",
    "#     ('classifier', SVC(kernel='rbf', class_weight='balanced', random_state=42)),\n",
    "    ])\n",
    "\n",
    "# Train the Model\n",
    "pipeline.fit(X_train, y_train)"
   ]
  },
  {
   "cell_type": "markdown",
   "metadata": {},
   "source": [
    "## Step 6: F1 Score + Classification Report"
   ]
  },
  {
   "cell_type": "code",
   "execution_count": null,
   "metadata": {},
   "outputs": [],
   "source": [
    "# Evaluate the Model\n",
    "y_pred = pipeline.predict(X_test)\n",
    "print(\"Classification Report:\")\n",
    "print(classification_report(y_test, y_pred))"
   ]
  },
  {
   "cell_type": "code",
   "execution_count": null,
   "metadata": {},
   "outputs": [],
   "source": [
    "# Step 6: Calculate F1 Score\n",
    "f1 = f1_score(y_test, y_pred, average='macro')\n",
    "print(f\"Weighted F1 Score: {f1:.4f}\")"
   ]
  },
  {
   "cell_type": "code",
   "execution_count": null,
   "metadata": {},
   "outputs": [],
   "source": [
    "# Analyze the Dimensionality Reduction\n",
    "# explained_variance_svd = svd.explained_variance_.sum()\n",
    "# print(f\"Total Explained Variance by SVD: {explained_variance_svd:.4f}\")\n",
    "\n",
    "explained_variance_pca = pca.explained_variance_.sum()\n",
    "print(f\"Total Explained Variance by PCA: {explained_variance_pca:.4f}\")\n",
    "\n",
    "# Optional Visualization of Explained Variance\n",
    "# plt.plot(np.cumsum(svd.explained_variance_))\n",
    "# plt.title('Cumulative Explained Variance by SVD Components')\n",
    "# plt.xlabel('Number of Components')\n",
    "# plt.ylabel('Cumulative Explained Variance')\n",
    "# plt.grid()\n",
    "# plt.show()"
   ]
  },
  {
   "cell_type": "markdown",
   "metadata": {},
   "source": [
    "## Step 7: Predict on C50Test"
   ]
  },
  {
   "cell_type": "code",
   "execution_count": null,
   "metadata": {},
   "outputs": [],
   "source": [
    "# Load in C50test located ../C50test/\n",
    "test_dir = 'C:/Users/esthe/Downloads/CMPE 255 Project/cmpe255-project/C50test/'\n",
    "# '../C50test'\n",
    "\n",
    "# get name of directories, authors (these will be the labels)\n",
    "test_sub = [name for name in os.listdir(test_dir) if os.path.isdir(os.path.join(test_dir, name))]\n",
    "test_lst = np.copy(train_sub)\n",
    "\n",
    "# setup the initial empty variables\n",
    "test       = []\n",
    "test_label = []\n",
    "\n",
    "# load the input data from C50test directory and process it\n",
    "auth_idx = 0\n",
    "\n",
    "# go within the author directory to get list of the file names, this will be the training data\n",
    "for i in train_sub:\n",
    "    sub2_dir  = 'C:/Users/esthe/Downloads/CMPE 255 Project/cmpe255-project/C50test/' + i \n",
    "    test_sub2 = [name for name in os.listdir(sub2_dir) if os.path.isfile(os.path.join(sub2_dir, name))]\n",
    "    \n",
    "    # in each author file, save the text as its test data\n",
    "    for j in test_sub2:\n",
    "        sub3  = 'C:/Users/esthe/Downloads/CMPE 255 Project/cmpe255-project/C50test/' + i + '/' + j\n",
    "\n",
    "        with open(sub3, 'r') as file:\n",
    "            data = file.read()\n",
    "            data_no_nw = data.replace('\\n', '').replace('\\r', '')\n",
    "            test.append(data_no_nw)\n",
    "        \n",
    "        test_label.append(auth_idx)\n",
    "\n",
    "    auth_idx = auth_idx + 1\n"
   ]
  },
  {
   "cell_type": "code",
   "execution_count": null,
   "metadata": {},
   "outputs": [],
   "source": [
    "# Transform Test Data into TF-IDF Features\n",
    "X_test_new = tfidf_vectorizer.transform(test)  # Use the trained vectorizer on test data\n",
    "y_test_new = np.array(test_label)\n",
    "\n",
    "print(f\"Transformed Test Feature Shape: {X_test_new.shape}\")\n",
    "# X_test_new = normalize_csr_matrix(X_test_new)"
   ]
  },
  {
   "cell_type": "code",
   "execution_count": null,
   "metadata": {
    "scrolled": false
   },
   "outputs": [],
   "source": [
    "# Step 2: Predict on Test Data\n",
    "# y_pred_new = pipeline.predict(X_test_new)\n",
    "# y_pred_new = best_model.predict(X_test_new)\n",
    "\n",
    "# Step 3: Evaluate Model on Test Data\n",
    "print(\"Classification Report on Test Data:\")\n",
    "print(classification_report(y_test_new, y_pred_new))\n",
    "\n",
    "# Optional: Calculate Weighted F1 Score\n",
    "f1_new = f1_score(y_test_new, y_pred_new, average='macro')\n",
    "print(f\"Weighted F1 Score on Test Data: {f1_new:.4f}\")"
   ]
  },
  {
   "cell_type": "markdown",
   "metadata": {},
   "source": [
    "SVD: \n",
    "\n",
    "    accuracy                           0.62      2500\n",
    "\n",
    "Weighted F1 Score on Test Data: \n",
    "\n",
    "**w/ GridSearch best_model:**\n",
    "\n",
    "    accuracy                           0.66      2500\n",
    "\n",
    "Weighted F1 Score on Test Data: 0.6539\n",
    "\n",
    "\n",
    "\n",
    "\n",
    "PCA:\n",
    "\n",
    "    accuracy                           0.61      2500\n",
    "\n",
    "Weighted F1 Score on Test Data: 0.6059\n",
    "\n",
    "**w/ GridSearch best_model:**\n",
    "\n",
    "    accuracy                           0.66      2500\n",
    "    \n",
    "Weighted F1 Score on Test Data: 0.6591"
   ]
  },
  {
   "cell_type": "markdown",
   "metadata": {},
   "source": [
    "## Plots"
   ]
  },
  {
   "cell_type": "code",
   "execution_count": null,
   "metadata": {},
   "outputs": [],
   "source": [
    "# Fit PCA on the training data\n",
    "pca = PCA()  # Initialize PCA to capture all components\n",
    "X_train_pca = pca.fit_transform(X_train.toarray())  # Convert to dense matrix if needed\n",
    "\n",
    "# Compute cumulative explained variance\n",
    "cumulative_variance = np.cumsum(pca.explained_variance_)\n",
    "\n",
    "# Normalize cumulative variance for scaling purposes (optional)\n",
    "total_variance = cumulative_variance[-1]  # Total variance\n",
    "normalized_cumulative_variance = cumulative_variance / total_variance\n",
    "\n",
    "# Plot the cumulative explained variance\n",
    "plt.figure(figsize=(8, 5))\n",
    "plt.plot(cumulative_variance, linestyle='-', color='b', label='Cumulative Variance')\n",
    "# plt.plot(normalized_cumulative_variance, linestyle='-', color='g', label='Normalized Variance')\n",
    "plt.title('Cumulative Explained Variance vs Principal Components')\n",
    "plt.xlabel('Number of Principal Components')\n",
    "plt.ylabel('Cumulative Variance')\n",
    "plt.grid()\n",
    "plt.axhline(y=0.85 * total_variance, color='r', linestyle='--', label='85% Variance')\n",
    "plt.axhline(y=0.90 * total_variance, color='purple', linestyle='--', label='90% Variance')\n",
    "plt.legend(loc='best')\n",
    "plt.show()\n"
   ]
  },
  {
   "cell_type": "code",
   "execution_count": 12,
   "metadata": {},
   "outputs": [
    {
     "data": {
      "image/png": "[encoded data removed]",
      "text/plain": [
       "<Figure size 800x500 with 1 Axes>"
      ]
     },
     "metadata": {},
     "output_type": "display_data"
    }
   ],
   "source": [
    "# Fit PCA on the training data\n",
    "pca = PCA()  # Initialize PCA with all components\n",
    "X_train_pca = pca.fit_transform(X_train.toarray())  # Ensure X_train is dense if sparse\n",
    "\n",
    "# Compute cumulative explained variance\n",
    "cumulative_variance = np.cumsum(pca.explained_variance_ratio_)\n",
    "\n",
    "# Plot the cumulative explained variance\n",
    "plt.figure(figsize=(8, 5))\n",
    "plt.plot(cumulative_variance, linestyle='--', color='b')\n",
    "plt.title('Cumulative Explained Variance by Number of Principal Components')\n",
    "plt.xlabel('Number of Principal Components')\n",
    "plt.ylabel('Cumulative Explained Variance')\n",
    "plt.grid()\n",
    "plt.axhline(y=0.85, color='r', linestyle='--', label='85% Variance')\n",
    "plt.axhline(y=0.90, color='g', linestyle='--', label='90% Variance')\n",
    "plt.legend(loc='best')\n",
    "plt.show()\n"
   ]
  },
  {
   "cell_type": "code",
   "execution_count": null,
   "metadata": {},
   "outputs": [],
   "source": [
    "# Define the range of n_components to explore\n",
    "components_range = [0,500,750,1000,1200,1500]\n",
    "explained_variances = []\n",
    "\n",
    "# Fit PCA for each number of components and record the cumulative explained variance\n",
    "for n in components_range:\n",
    "    pca = PCA(n_components=n)\n",
    "    pca.fit(X_train.toarray())  # Convert sparse matrix to dense if necessary\n",
    "    explained_variances.append(np.sum(pca.explained_variance_))  # Cumulative explained variance\n",
    "\n",
    "# Plot the explained variance\n",
    "plt.figure(figsize=(10, 6))\n",
    "plt.plot(components_range, explained_variances, marker='o', color='b', linestyle='-', markersize=3)\n",
    "plt.title('Explained Variance vs. Number of PCA Components')\n",
    "plt.xlabel('Number of Components (n)')\n",
    "plt.ylabel('Cumulative Explained Variance')\n",
    "plt.grid(True)\n",
    "plt.tight_layout()\n",
    "plt.show()\n"
   ]
  },
  {
   "cell_type": "code",
   "execution_count": null,
   "metadata": {},
   "outputs": [],
   "source": [
    "# List of test sizes to evaluate\n",
    "test_sizes = [0.10,0.15,0.20,0.25,0.30]  # Test sizes from 10% to 50%\n",
    "f1_scores = []\n",
    "\n",
    "# Evaluate the model for each test size\n",
    "for test_size in test_sizes:\n",
    "    # Split the data\n",
    "    X_train_split, X_test_split, y_train_split, y_test_split = train_test_split(\n",
    "        X, y, test_size=test_size, stratify=y, random_state=42\n",
    "    )\n",
    "    \n",
    "    # Train the model\n",
    "    pipeline.fit(X_train_split, y_train_split)\n",
    "    \n",
    "    # Predict and evaluate\n",
    "    y_pred_split = pipeline.predict(X_test_split)\n",
    "    f1 = f1_score(y_test_split, y_pred_split, average='macro')\n",
    "    f1_scores.append(f1)\n",
    "\n",
    "    if debug:\n",
    "        print(f\"Test Size: {test_size:.2f}, F1 Score: {f1:.4f}\")\n",
    "\n",
    "# Plot Test Size vs. F1-Score\n",
    "plt.plot(test_sizes, f1_scores, marker='o', linestyle='-', color='b')\n",
    "plt.title(\"Test Size vs. F1-Score\")\n",
    "plt.xlabel(\"Test Size\")\n",
    "plt.ylabel(\"F1-Score\")\n",
    "plt.grid()\n",
    "plt.show()\n"
   ]
  },
  {
   "cell_type": "code",
   "execution_count": null,
   "metadata": {},
   "outputs": [],
   "source": [
    "from wordcloud import WordCloud\n",
    "all_text = \" \".join(train)\n",
    "wordcloud = WordCloud(width=800, height=400, background_color='white').generate(all_text)\n",
    "plt.figure(figsize=(10, 5))\n",
    "plt.imshow(wordcloud, interpolation='bilinear')\n",
    "plt.axis('off')\n",
    "plt.title(\"Most Frequent Words\")\n",
    "plt.show()\n"
   ]
  },
  {
   "cell_type": "code",
   "execution_count": null,
   "metadata": {},
   "outputs": [],
   "source": [
    "from sklearn.manifold import TSNE\n",
    "tsne = TSNE(n_components=2, random_state=42)\n",
    "X_embedded = tsne.fit_transform(X[:1000].toarray())  # Use a subset for efficiency\n",
    "plt.scatter(X_embedded[:, 0], X_embedded[:, 1], c=label[:1000], cmap='viridis', s=5)\n",
    "plt.colorbar()\n",
    "plt.title(\"t-SNE Visualization of Feature Space\")\n",
    "plt.show()\n"
   ]
  },
  {
   "cell_type": "code",
   "execution_count": null,
   "metadata": {},
   "outputs": [],
   "source": [
    "from sklearn.metrics import confusion_matrix\n",
    "import seaborn as sns\n",
    "\n",
    "# highlight which classes are misclassified\n",
    "cm = confusion_matrix(y_test_new, y_pred_new)\n",
    "plt.figure(figsize=(10, 8))\n",
    "sns.heatmap(cm, annot=False, fmt='d', cmap='Blues', xticklabels=label_lst, yticklabels=label_lst)\n",
    "plt.title(\"Confusion Matrix\")\n",
    "plt.xlabel(\"Predicted\")\n",
    "plt.ylabel(\"Actual\")\n",
    "plt.show()\n"
   ]
  },
  {
   "cell_type": "code",
   "execution_count": null,
   "metadata": {},
   "outputs": [],
   "source": [
    "from sklearn.metrics import classification_report\n",
    "\n",
    "plt.figure(figsize=(10, 8))\n",
    "report = classification_report(y_test_new, y_pred_new, output_dict=True)\n",
    "f1_scores = [report[str(i)]['f1-score'] for i in range(len(label_lst))]\n",
    "plt.bar(label_lst, f1_scores)\n",
    "plt.title(\"F1 Score per Class\")\n",
    "plt.xlabel(\"Class\")\n",
    "plt.ylabel(\"F1 Score\")\n",
    "plt.xticks(rotation=90)\n",
    "plt.show()\n"
   ]
  },
  {
   "cell_type": "markdown",
   "metadata": {},
   "source": [
    "\n"
   ]
  },
  {
   "cell_type": "code",
   "execution_count": null,
   "metadata": {},
   "outputs": [],
   "source": []
  }
 ],
 "metadata": {
  "anaconda-cloud": {},
  "kernelspec": {
   "display_name": "Python 3 (ipykernel)",
   "language": "python",
   "name": "python3"
  },
  "language_info": {
   "codemirror_mode": {
    "name": "ipython",
    "version": 3
   },
   "file_extension": ".py",
   "mimetype": "text/x-python",
   "name": "python",
   "nbconvert_exporter": "python",
   "pygments_lexer": "ipython3",
   "version": "3.9.13"
  }
 },
 "nbformat": 4,
 "nbformat_minor": 1
}
